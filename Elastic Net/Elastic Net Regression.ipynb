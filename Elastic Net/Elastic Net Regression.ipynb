{
 "cells": [
  {
   "cell_type": "markdown",
   "metadata": {},
   "source": [
    "# ELASTIC NET REGRESSION\n",
    "# ''''''''''''''''''''''''''''''''''''''''''''''''''''''''"
   ]
  },
  {
   "cell_type": "markdown",
   "metadata": {},
   "source": [
    "## Definition\n",
    "In statistics and in the fitting of linear or logistic regression models, the elastic net is a regularized regression method that linearly combines the L1 and L2 penalties of the lasso and ridge methods.The elastic net method performs variable selection and regularization simultaneously.\n",
    "\n",
    "## Dataset Used \n",
    "### Dataset download link \n",
    "https://www.kaggle.com/karthickveerakumar/salary-data-simple-linear-regression\n",
    "### Description \n",
    "This dataset consists of company data with 30 employees(30 rows), and 2 columns. The 2 columns are of years of experience and the salary. Thus we aim at finding how years of experience affect salary of employees using elastic-net.\n",
    "\n",
    "## Code\n",
    "Importing required libraries"
   ]
  },
  {
   "cell_type": "code",
   "execution_count": 23,
   "metadata": {},
   "outputs": [],
   "source": [
    "import numpy as np \n",
    "import matplotlib.pyplot as plt \n",
    "import pandas as pd \n",
    "from sklearn.model_selection import train_test_split "
   ]
  },
  {
   "cell_type": "code",
   "execution_count": 24,
   "metadata": {},
   "outputs": [],
   "source": [
    "class ElasticRegression() :   \n",
    "    def __init__(self,learning_rate,iterations,l1_penality,l2_penality) :     \n",
    "        self.learning_rate=learning_rate    \n",
    "        self.iterations=iterations    \n",
    "        self.l1_penality=l1_penality    \n",
    "        self.l2_penality=l2_penality \n",
    "            \n",
    "    def fit(self,x,y):    \n",
    "        self.b=0\n",
    "        self.x=x \n",
    "        self.y=y \n",
    "        self.m=x.shape[0]\n",
    "        self.n=x.shape[1]\n",
    "        self.W=np.zeros(self.n) \n",
    "        self.weight_updation()  \n",
    "        return self\n",
    "    \n",
    "    def weight_updation(self):\n",
    "        for i in range(self.iterations):     \n",
    "            self.update_weights() \n",
    "            \n",
    "    def update_weights(self):  \n",
    "        y_pred=self.predict(self.x) \n",
    "        dW=np.zeros(self.n) \n",
    "        for j in range(self.n): \n",
    "            if self.W[j]<=0:    \n",
    "                dW[j] = -(2*(self.x[:,j]).dot(self.y-y_pred))-self.l1_penality+2*self.l2_penality*self.W[j]\n",
    "                dW[j]//=self.m\n",
    "            else : \n",
    "                dW[j]=-(2*(self.x[:,j]).dot(self.y-y_pred))+self.l1_penality+2*self.l2_penality*self.W[j]\n",
    "                dW[j]//=self.m\n",
    "        db=-2*np.sum(self.y-y_pred)\n",
    "        db//=self.m\n",
    "        self.W-=self.learning_rate*dW  \n",
    "        self.b-=self.learning_rate*db \n",
    "        return self\n",
    "\n",
    "    def predict(self,x): \n",
    "        ans=x.dot(self.W)+self.b \n",
    "        return ans\n",
    "    "
   ]
  },
  {
   "cell_type": "code",
   "execution_count": 25,
   "metadata": {},
   "outputs": [],
   "source": [
    " def main() :  \n",
    "    df=pd.read_csv(\"salary_data.csv\") \n",
    "    x=df.iloc[:,:-1].values \n",
    "    y=df.iloc[:,1].values \n",
    "    x_train,x_test,y_train,y_test=train_test_split(x,y,test_size=1/3.5,random_state=0) \n",
    "    model = ElasticRegression(iterations=3000,\n",
    "                              learning_rate=0.01,\n",
    "                              l1_penality=500,\n",
    "                              l2_penality=1) \n",
    "    model.fit(x_train,y_train) \n",
    "    y_pred=model.predict(x_test)   \n",
    "    print(\"Predicted values of y:\",np.round( y_pred[:3], 2))    \n",
    "    print(\"Test values of y:\",y_test[:3])  \n",
    "    print(\"Trained Weight W:\",round(model.W[0],2))  \n",
    "    print(\"Trained bias b:\",round(model.b,2)) \n",
    "    plt.subplot(211)\n",
    "    plt.title('Salary vs Years of Experience') \n",
    "    plt.scatter(x_test,y_test,color='blue',label=\"Test Y\") \n",
    "    plt.scatter(x_test,y_pred,color='red',label=\"Predicted Y\") \n",
    "    plt.legend(loc=2)\n",
    "    plt.subplot(212)\n",
    "    plt.scatter(x_test,y_test,color='green',label=\"Test Y\") \n",
    "    plt.plot(x_test,y_pred,color='yellow',label=\"Predicted Y\") \n",
    "    plt.xlabel('Years of Experience') \n",
    "    plt.ylabel('Salary') \n",
    "    plt.legend(loc=2)\n",
    "    plt.show() "
   ]
  },
  {
   "cell_type": "code",
   "execution_count": 26,
   "metadata": {},
   "outputs": [
    {
     "name": "stdout",
     "output_type": "stream",
     "text": [
      "Predicted values of y: [ 41051.89 122812.87  65208.54]\n",
      "Test values of y: [ 37731. 122391.  57081.]\n",
      "Trained Weight W: 9291.02\n",
      "Trained bias b: 27115.36\n"
     ]
    },
    {
     "data": {
      "image/png": "[encoded data removed]",
      "text/plain": [
       "<Figure size 432x288 with 2 Axes>"
      ]
     },
     "metadata": {
      "needs_background": "light"
     },
     "output_type": "display_data"
    }
   ],
   "source": [
    "    main()"
   ]
  },
  {
   "cell_type": "markdown",
   "metadata": {},
   "source": [
    "### References taken from \n",
    "https://corporatefinanceinstitute.com/resources/knowledge/other/elastic-net/\n",
    "\\\n",
    "https://www.geeksforgeeks.org/implementation-of-elastic-net-regression-from-scratch/"
   ]
  }
 ],
 "metadata": {
  "kernelspec": {
   "display_name": "Python 3",
   "language": "python",
   "name": "python3"
  },
  "language_info": {
   "codemirror_mode": {
    "name": "ipython",
    "version": 3
   },
   "file_extension": ".py",
   "mimetype": "text/x-python",
   "name": "python",
   "nbconvert_exporter": "python",
   "pygments_lexer": "ipython3",
   "version": "3.7.6"
  }
 },
 "nbformat": 4,
 "nbformat_minor": 4
}

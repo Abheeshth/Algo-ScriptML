{
 "cells": [
  {
   "cell_type": "code",
   "execution_count": 1,
   "metadata": {},
   "outputs": [
    {
     "name": "stderr",
     "output_type": "stream",
     "text": [
      "WARNING (theano.configdefaults): g++ not available, if using conda: `conda install m2w64-toolchain`\n",
      "WARNING (theano.configdefaults): g++ not detected ! Theano will be unable to execute optimized C-implementations (for both CPU and GPU) and will default to Python implementations. Performance will be severely degraded. To remove this warning, set Theano flags cxx to an empty string.\n",
      "WARNING (theano.tensor.blas): Using NumPy C-API based implementation for BLAS functions.\n"
     ]
    }
   ],
   "source": [
    "# Pandas and numpy for data manipulation\n",
    "import pandas as pd\n",
    "import numpy as np\n",
    "\n",
    "# Matplotlib and seaborn for visualization\n",
    "import matplotlib.pyplot as plt\n",
    "%matplotlib inline \n",
    "\n",
    "import seaborn as sns\n",
    "\n",
    "# Linear Regression to verify implementation\n",
    "from sklearn.linear_model import LinearRegression\n",
    "\n",
    "# Scipy for statistics\n",
    "import scipy\n",
    "\n",
    "# PyMC3 for Bayesian Inference\n",
    "import pymc3 as pm"
   ]
  },
  {
   "cell_type": "code",
   "execution_count": 2,
   "metadata": {},
   "outputs": [
    {
     "data": {
      "text/html": [
       "<div>\n",
       "<style scoped>\n",
       "    .dataframe tbody tr th:only-of-type {\n",
       "        vertical-align: middle;\n",
       "    }\n",
       "\n",
       "    .dataframe tbody tr th {\n",
       "        vertical-align: top;\n",
       "    }\n",
       "\n",
       "    .dataframe thead th {\n",
       "        text-align: right;\n",
       "    }\n",
       "</style>\n",
       "<table border=\"1\" class=\"dataframe\">\n",
       "  <thead>\n",
       "    <tr style=\"text-align: right;\">\n",
       "      <th></th>\n",
       "      <th>index</th>\n",
       "      <th>User_ID</th>\n",
       "      <th>Gender</th>\n",
       "      <th>Age</th>\n",
       "      <th>Height</th>\n",
       "      <th>Weight</th>\n",
       "      <th>Duration</th>\n",
       "      <th>Heart_Rate</th>\n",
       "      <th>Body_Temp</th>\n",
       "      <th>Calories</th>\n",
       "      <th>Intercept</th>\n",
       "    </tr>\n",
       "  </thead>\n",
       "  <tbody>\n",
       "    <tr>\n",
       "      <th>0</th>\n",
       "      <td>0</td>\n",
       "      <td>14733363</td>\n",
       "      <td>male</td>\n",
       "      <td>68</td>\n",
       "      <td>190.0</td>\n",
       "      <td>94.0</td>\n",
       "      <td>29.0</td>\n",
       "      <td>105.0</td>\n",
       "      <td>40.8</td>\n",
       "      <td>231.0</td>\n",
       "      <td>1</td>\n",
       "    </tr>\n",
       "    <tr>\n",
       "      <th>1</th>\n",
       "      <td>1</td>\n",
       "      <td>14861698</td>\n",
       "      <td>female</td>\n",
       "      <td>20</td>\n",
       "      <td>166.0</td>\n",
       "      <td>60.0</td>\n",
       "      <td>14.0</td>\n",
       "      <td>94.0</td>\n",
       "      <td>40.3</td>\n",
       "      <td>66.0</td>\n",
       "      <td>1</td>\n",
       "    </tr>\n",
       "    <tr>\n",
       "      <th>2</th>\n",
       "      <td>2</td>\n",
       "      <td>11179863</td>\n",
       "      <td>male</td>\n",
       "      <td>69</td>\n",
       "      <td>179.0</td>\n",
       "      <td>79.0</td>\n",
       "      <td>5.0</td>\n",
       "      <td>88.0</td>\n",
       "      <td>38.7</td>\n",
       "      <td>26.0</td>\n",
       "      <td>1</td>\n",
       "    </tr>\n",
       "    <tr>\n",
       "      <th>3</th>\n",
       "      <td>3</td>\n",
       "      <td>16180408</td>\n",
       "      <td>female</td>\n",
       "      <td>34</td>\n",
       "      <td>179.0</td>\n",
       "      <td>71.0</td>\n",
       "      <td>13.0</td>\n",
       "      <td>100.0</td>\n",
       "      <td>40.5</td>\n",
       "      <td>71.0</td>\n",
       "      <td>1</td>\n",
       "    </tr>\n",
       "    <tr>\n",
       "      <th>4</th>\n",
       "      <td>4</td>\n",
       "      <td>17771927</td>\n",
       "      <td>female</td>\n",
       "      <td>27</td>\n",
       "      <td>154.0</td>\n",
       "      <td>58.0</td>\n",
       "      <td>10.0</td>\n",
       "      <td>81.0</td>\n",
       "      <td>39.8</td>\n",
       "      <td>35.0</td>\n",
       "      <td>1</td>\n",
       "    </tr>\n",
       "  </tbody>\n",
       "</table>\n",
       "</div>"
      ],
      "text/plain": [
       "   index   User_ID  Gender  Age  Height  Weight  Duration  Heart_Rate  \\\n",
       "0      0  14733363    male   68   190.0    94.0      29.0       105.0   \n",
       "1      1  14861698  female   20   166.0    60.0      14.0        94.0   \n",
       "2      2  11179863    male   69   179.0    79.0       5.0        88.0   \n",
       "3      3  16180408  female   34   179.0    71.0      13.0       100.0   \n",
       "4      4  17771927  female   27   154.0    58.0      10.0        81.0   \n",
       "\n",
       "   Body_Temp  Calories  Intercept  \n",
       "0       40.8     231.0          1  \n",
       "1       40.3      66.0          1  \n",
       "2       38.7      26.0          1  \n",
       "3       40.5      71.0          1  \n",
       "4       39.8      35.0          1  "
      ]
     },
     "execution_count": 2,
     "metadata": {},
     "output_type": "execute_result"
    }
   ],
   "source": [
    "exercise = pd.read_csv('exercise.csv')\n",
    "calories = pd.read_csv('calories.csv')\n",
    "df = pd.merge(exercise, calories, on = 'User_ID')\n",
    "df = df[df['Calories'] < 300]\n",
    "df = df.reset_index()\n",
    "df['Intercept'] = 1\n",
    "df.head()"
   ]
  },
  {
   "cell_type": "code",
   "execution_count": 7,
   "metadata": {},
   "outputs": [],
   "source": [
    "# Create the features and response\n",
    "X = df.loc[:, ['Intercept', 'Duration']]\n",
    "y = df.loc[:, 'Calories']"
   ]
  },
  {
   "cell_type": "markdown",
   "metadata": {},
   "source": [
    "## Bayesian Linear Regression Model"
   ]
  },
  {
   "cell_type": "code",
   "execution_count": null,
   "metadata": {},
   "outputs": [],
   "source": [
    "with pm.Model() as linear_model:\n",
    "    # Intercept\n",
    "    intercept = pm.Normal('Intercept', mu = 0, sd = 10)\n",
    "    \n",
    "    # Slope \n",
    "    slope = pm.Normal('slope', mu = 0, sd = 10)\n",
    "    \n",
    "    # Standard deviation\n",
    "    sigma = pm.HalfNormal('sigma', sd = 10)\n",
    "    \n",
    "    # Estimate of mean\n",
    "    mean = intercept + slope * X.loc[:, 'Duration']\n",
    "    \n",
    "    # Observed values\n",
    "    Y_obs = pm.Normal('Y_obs', mu = mean, sd = sigma, observed = y.values)\n",
    "    \n",
    "    # Sampler\n",
    "    step = pm.NUTS()\n",
    "\n",
    "    # Posterior distribution\n",
    "    linear_trace = pm.sample(1000, step)"
   ]
  },
  {
   "cell_type": "markdown",
   "metadata": {},
   "source": [
    "## RESULTS"
   ]
  },
  {
   "cell_type": "code",
   "execution_count": 6,
   "metadata": {},
   "outputs": [
    {
     "ename": "NameError",
     "evalue": "name 'linear_trace' is not defined",
     "output_type": "error",
     "traceback": [
      "\u001b[1;31m---------------------------------------------------------------------------\u001b[0m",
      "\u001b[1;31mNameError\u001b[0m                                 Traceback (most recent call last)",
      "\u001b[1;32m<ipython-input-6-752eea72e3a1>\u001b[0m in \u001b[0;36m<module>\u001b[1;34m\u001b[0m\n\u001b[1;32m----> 1\u001b[1;33m \u001b[0mpm\u001b[0m\u001b[1;33m.\u001b[0m\u001b[0mtraceplot\u001b[0m\u001b[1;33m(\u001b[0m\u001b[0mlinear_trace\u001b[0m\u001b[1;33m,\u001b[0m \u001b[0mfigsize\u001b[0m \u001b[1;33m=\u001b[0m \u001b[1;33m(\u001b[0m\u001b[1;36m12\u001b[0m\u001b[1;33m,\u001b[0m \u001b[1;36m12\u001b[0m\u001b[1;33m)\u001b[0m\u001b[1;33m)\u001b[0m\u001b[1;33m;\u001b[0m\u001b[1;33m\u001b[0m\u001b[1;33m\u001b[0m\u001b[0m\n\u001b[0m",
      "\u001b[1;31mNameError\u001b[0m: name 'linear_trace' is not defined"
     ]
    }
   ],
   "source": [
    "pm.traceplot(linear_trace, figsize = (12, 12));\n",
    "pm.plot_posterior(linear_trace, figsize = (12, 10), text_size = 20);\n",
    "pm.forestplot(linear_trace);"
   ]
  },
  {
   "cell_type": "markdown",
   "metadata": {},
   "source": [
    "## OBSERVATIONS"
   ]
  },
  {
   "cell_type": "code",
   "execution_count": null,
   "metadata": {},
   "outputs": [],
   "source": [
    "\n",
    "plt.figure(figsize = (8, 8))\n",
    "pm.plot_posterior_predictive_glm(linear_trace, samples = 100, eval=np.linspace(2, 30, 100), linewidth = 1, \n",
    "                                 color = 'red', alpha = 0.8, label = 'Bayesian Posterior Fits',\n",
    "                                lm = lambda x, sample: sample['Intercept'] + sample['slope'] * x);\n",
    "plt.scatter(X['Duration'], y.values, s = 12, alpha = 0.8, c = 'blue', label = 'Observations')\n",
    "plt.plot(X['Duration'], by_hand_coefs[0] + X['Duration'] * by_hand_coefs[1], 'k--', label = 'OLS Fit', linewidth = 1.4)\n",
    "plt.title('Posterior Predictions with all Observations', size = 20); plt.xlabel('Duration (min)', size = 18);\n",
    "plt.ylabel('Calories', size = 18);\n",
    "plt.legend(prop={'size': 16});\n",
    "\n",
    "pm.df_summary(linear_trace)"
   ]
  },
  {
   "cell_type": "markdown",
   "metadata": {},
   "source": [
    "## PREDICTION"
   ]
  },
  {
   "cell_type": "code",
   "execution_count": null,
   "metadata": {},
   "outputs": [],
   "source": [
    "bayes_prediction = linear_trace['Intercept'] + linear_trace['slope'] * 15.5\n",
    "\n",
    "plt.figure(figsize = (8, 8))\n",
    "plt.style.use('fivethirtyeight')\n",
    "sns.kdeplot(bayes_prediction, label = 'Bayes Posterior Prediction')\n",
    "plt.vlines(x = by_hand_coefs[0] + by_hand_coefs[1] * 15.5, \n",
    "           ymin = 0, ymax = 2.5, \n",
    "           label = 'OLS Prediction',\n",
    "          colors = 'red', linestyles='--')\n",
    "plt.legend();\n",
    "plt.xlabel('Calories Burned', size = 18), plt.ylabel('Probability Density', size = 18);\n",
    "plt.title('Posterior Prediction for 15.5 Minutes', size = 20);"
   ]
  }
 ],
 "metadata": {
  "kernelspec": {
   "display_name": "Python 3",
   "language": "python",
   "name": "python3"
  },
  "language_info": {
   "codemirror_mode": {
    "name": "ipython",
    "version": 3
   },
   "file_extension": ".py",
   "mimetype": "text/x-python",
   "name": "python",
   "nbconvert_exporter": "python",
   "pygments_lexer": "ipython3",
   "version": "3.7.6"
  }
 },
 "nbformat": 4,
 "nbformat_minor": 4
}
